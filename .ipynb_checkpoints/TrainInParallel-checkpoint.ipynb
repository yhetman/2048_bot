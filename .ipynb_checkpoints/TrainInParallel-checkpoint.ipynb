{
 "cells": [
  {
   "cell_type": "code",
   "execution_count": null,
   "metadata": {},
   "outputs": [],
   "source": [
    "import math, copy\n",
    "import numpy as np\n",
    "from classNeuron import Neuron\n",
    "from classNetwork import Network\n",
    "import numpy as np\n",
    "from classGame2048 import Game2048\n",
    "import tkinter as tk\n",
    "import time\n",
    "import pickle\n",
    "import concurrent.futures\n",
    "from utils import *\n",
    "from classGeneticLearner import GeneticLearner\n",
    "\n",
    "fname = './models/model_'\n",
    "n_agents = 1000\n",
    "generations_per_batch = 1\n",
    "n_batches = 10\n",
    "total_generations = generations_per_batch * n_batches\n",
    "print('Preparing to run ' + str(total_generations) +' generations...')\n",
    "\n",
    "G = GeneticLearner(n_agents,[16,8,4],seed = 4)\n",
    "for i in range(n_batches):\n",
    "    print(\"Starting batch \" + str(i))\n",
    "    G.run_n_generations(generations_per_batch)\n",
    "    gen_num = i * generations_per_batch\n",
    "    save_model_state(G, fname + str(gen_num) + '.p')\n",
    "    print(\"Model \" + str(gen_num) + \" Saved\")\n"
   ]
  }
 ],
 "metadata": {
  "kernelspec": {
   "display_name": "Python 3",
   "language": "python",
   "name": "python3"
  },
  "language_info": {
   "codemirror_mode": {
    "name": "ipython",
    "version": 3
   },
   "file_extension": ".py",
   "mimetype": "text/x-python",
   "name": "python",
   "nbconvert_exporter": "python",
   "pygments_lexer": "ipython3",
   "version": "3.7.6"
  }
 },
 "nbformat": 4,
 "nbformat_minor": 4
}
