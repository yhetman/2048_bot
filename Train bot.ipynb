{
 "cells": [
  {
   "cell_type": "code",
   "execution_count": 15,
   "metadata": {},
   "outputs": [],
   "source": [
    "import math, copy\n",
    "import numpy as np\n",
    "\n",
    "from classNeuron import Neuron\n",
    "from classNetwork import Network\n",
    "import numpy as np\n",
    "from classGame2048 import Game2048\n",
    "import math\n",
    "# import classGame2048 as classGame2048\n",
    "import tkinter as tk\n",
    "import time\n",
    "import pickle\n",
    "import concurrent.futures\n"
   ]
  },
  {
   "cell_type": "code",
   "execution_count": 16,
   "metadata": {},
   "outputs": [
    {
     "name": "stdout",
     "output_type": "stream",
     "text": [
      "[[0. 4. 0. 0.]\n",
      " [0. 0. 0. 0.]\n",
      " [0. 2. 0. 0.]\n",
      " [0. 4. 4. 0.]]\n",
      "====================\n",
      "[[0. 0. 0. 4.]\n",
      " [0. 0. 0. 0.]\n",
      " [0. 0. 0. 2.]\n",
      " [0. 4. 0. 8.]]\n",
      "--------------------\n",
      "[0. 0. 0. 4. 0. 0. 0. 0. 0. 0. 0. 2. 0. 4. 0. 8.]\n",
      "--------------------\n",
      "98.0\n"
     ]
    }
   ],
   "source": [
    "mygame = Game2048(4)\n",
    "mygame.generate_tile()\n",
    "mygame.generate_tile()\n",
    "mygame.show_state()\n",
    "print('====================')\n",
    "mygame.swipe('right')\n",
    "mygame.show_state()\n",
    "print('--------------------')\n",
    "print(mygame.get_state(True))\n",
    "print('--------------------')\n",
    "print(mygame.get_score())"
   ]
  },
  {
   "cell_type": "markdown",
   "metadata": {},
   "source": [
    "### Check Neuron class"
   ]
  },
  {
   "cell_type": "code",
   "execution_count": 17,
   "metadata": {},
   "outputs": [
    {
     "name": "stdout",
     "output_type": "stream",
     "text": [
      "-1.0\n"
     ]
    }
   ],
   "source": [
    "n = Neuron(np.array([-100, -100]), -100000)\n",
    "print(n.forward(np.array([25600000, 25600000])))"
   ]
  },
  {
   "cell_type": "markdown",
   "metadata": {},
   "source": [
    "### Check Network "
   ]
  },
  {
   "cell_type": "code",
   "execution_count": 18,
   "metadata": {},
   "outputs": [
    {
     "name": "stdout",
     "output_type": "stream",
     "text": [
      "[ 0.99980999 -1.        ]\n"
     ]
    }
   ],
   "source": [
    "X1 = np.array([[1], [4], [2], [-4]])\n",
    "X2 = np.array([[1, 2, 3,-3], [5,-20,12,0.26]])\n",
    "b1 = np.array([1,1,1,1])\n",
    "b2 = np.array([1,1])\n",
    "N = Network([X1,X2],[b1,b2])\n",
    "I = np.array([1,0.3,-1,3])\n",
    "print(N.evaluate(I))"
   ]
  },
  {
   "cell_type": "code",
   "execution_count": null,
   "metadata": {},
   "outputs": [],
   "source": []
  }
 ],
 "metadata": {
  "kernelspec": {
   "display_name": "Python 3",
   "language": "python",
   "name": "python3"
  },
  "language_info": {
   "codemirror_mode": {
    "name": "ipython",
    "version": 3
   },
   "file_extension": ".py",
   "mimetype": "text/x-python",
   "name": "python",
   "nbconvert_exporter": "python",
   "pygments_lexer": "ipython3",
   "version": "3.7.6"
  }
 },
 "nbformat": 4,
 "nbformat_minor": 4
}
